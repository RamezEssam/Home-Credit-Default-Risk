{
 "cells": [
  {
   "cell_type": "markdown",
   "id": "db42fd71",
   "metadata": {},
   "source": [
    "### Feature engineering \n",
    "\n",
    "In this notebook we will utilize client previous credits to extract useful features to strengthen our models performance"
   ]
  },
  {
   "cell_type": "code",
   "execution_count": 1,
   "id": "01781daf",
   "metadata": {},
   "outputs": [
    {
     "name": "stderr",
     "output_type": "stream",
     "text": [
      "C:\\Users\\ramez\\.conda\\envs\\deeplearning\\lib\\site-packages\\xgboost\\compat.py:36: FutureWarning: pandas.Int64Index is deprecated and will be removed from pandas in a future version. Use pandas.Index with the appropriate dtype instead.\n",
      "  from pandas import MultiIndex, Int64Index\n"
     ]
    }
   ],
   "source": [
    "import numpy as np\n",
    "import pandas as pd\n",
    "import gc\n",
    "import time\n",
    "from contextlib import contextmanager\n",
    "from xgboost import XGBClassifier\n",
    "from sklearn.metrics import roc_auc_score, roc_curve\n",
    "from sklearn.model_selection import KFold, StratifiedKFold\n",
    "import matplotlib.pyplot as plt\n",
    "import seaborn as sns\n",
    "import warnings\n",
    "warnings.simplefilter(action='ignore', category=FutureWarning)"
   ]
  },
  {
   "cell_type": "code",
   "execution_count": 14,
   "id": "b4614cda",
   "metadata": {},
   "outputs": [],
   "source": [
    "@contextmanager\n",
    "def timer(title):\n",
    "    t0 = time.time()\n",
    "    yield\n",
    "    print(\"{} - done in {:.0f}s\".format(title, time.time() - t0))"
   ]
  },
  {
   "cell_type": "markdown",
   "id": "16a8a2b5",
   "metadata": {},
   "source": [
    "#### One-hot encoding for categorical columns with get_dummies"
   ]
  },
  {
   "cell_type": "code",
   "execution_count": 15,
   "id": "55cb8a7a",
   "metadata": {},
   "outputs": [],
   "source": [
    "def one_hot_encoder(df, nan_as_category = True):\n",
    "    original_columns = list(df.columns)\n",
    "    categorical_columns = [col for col in df.columns if df[col].dtype == 'object']\n",
    "    df = pd.get_dummies(df, columns= categorical_columns, dummy_na= nan_as_category)\n",
    "    new_columns = [c for c in df.columns if c not in original_columns]\n",
    "    return df, new_columns"
   ]
  },
  {
   "cell_type": "markdown",
   "id": "af16c561",
   "metadata": {},
   "source": [
    "#### Preprocess application_train.csv and application_test.csv"
   ]
  },
  {
   "cell_type": "code",
   "execution_count": 16,
   "id": "8702a1de",
   "metadata": {},
   "outputs": [],
   "source": [
    "def application_train_test(num_rows = None, nan_as_category = False):\n",
    "    # Read data and merge\n",
    "    df = pd.read_csv('D:\\\\Datasets\\\\home-credit-default-risk\\\\application_train.csv', nrows= num_rows)\n",
    "    test_df = pd.read_csv('D:\\\\Datasets\\\\home-credit-default-risk\\\\application_test.csv', nrows= num_rows)\n",
    "    print(\"Train samples: {}, test samples: {}\".format(len(df), len(test_df)))\n",
    "    df = df.append(test_df).reset_index()\n",
    "    # Optional: Remove 4 applications with XNA CODE_GENDER (train set)\n",
    "    df = df[df['CODE_GENDER'] != 'XNA']\n",
    "    \n",
    "    docs = [_f for _f in df.columns if 'FLAG_DOC' in _f]\n",
    "    live = [_f for _f in df.columns if ('FLAG_' in _f) & ('FLAG_DOC' not in _f) & ('_FLAG_' not in _f)]\n",
    "    \n",
    "    # NaN values for DAYS_EMPLOYED: 365.243 -> nan\n",
    "    df['DAYS_EMPLOYED'].replace(365243, np.nan, inplace= True)\n",
    "\n",
    "    inc_by_org = df[['AMT_INCOME_TOTAL', 'ORGANIZATION_TYPE']].groupby('ORGANIZATION_TYPE').median()['AMT_INCOME_TOTAL']\n",
    "\n",
    "    df['NEW_CREDIT_TO_ANNUITY_RATIO'] = df['AMT_CREDIT'] / df['AMT_ANNUITY']\n",
    "    df['NEW_CREDIT_TO_GOODS_RATIO'] = df['AMT_CREDIT'] / df['AMT_GOODS_PRICE']\n",
    "    df['NEW_DOC_IND_KURT'] = df[docs].kurtosis(axis=1)\n",
    "    df['NEW_LIVE_IND_SUM'] = df[live].sum(axis=1)\n",
    "    df['NEW_INC_PER_CHLD'] = df['AMT_INCOME_TOTAL'] / (1 + df['CNT_CHILDREN'])\n",
    "    df['NEW_INC_BY_ORG'] = df['ORGANIZATION_TYPE'].map(inc_by_org)\n",
    "    df['NEW_EMPLOY_TO_BIRTH_RATIO'] = df['DAYS_EMPLOYED'] / df['DAYS_BIRTH']\n",
    "    df['NEW_ANNUITY_TO_INCOME_RATIO'] = df['AMT_ANNUITY'] / (1 + df['AMT_INCOME_TOTAL'])\n",
    "    df['NEW_SOURCES_PROD'] = df['EXT_SOURCE_1'] * df['EXT_SOURCE_2'] * df['EXT_SOURCE_3']\n",
    "    df['NEW_EXT_SOURCES_MEAN'] = df[['EXT_SOURCE_1', 'EXT_SOURCE_2', 'EXT_SOURCE_3']].mean(axis=1)\n",
    "    df['NEW_SCORES_STD'] = df[['EXT_SOURCE_1', 'EXT_SOURCE_2', 'EXT_SOURCE_3']].std(axis=1)\n",
    "    df['NEW_SCORES_STD'] = df['NEW_SCORES_STD'].fillna(df['NEW_SCORES_STD'].mean())\n",
    "    df['NEW_CAR_TO_BIRTH_RATIO'] = df['OWN_CAR_AGE'] / df['DAYS_BIRTH']\n",
    "    df['NEW_CAR_TO_EMPLOY_RATIO'] = df['OWN_CAR_AGE'] / df['DAYS_EMPLOYED']\n",
    "    df['NEW_PHONE_TO_BIRTH_RATIO'] = df['DAYS_LAST_PHONE_CHANGE'] / df['DAYS_BIRTH']\n",
    "    df['NEW_PHONE_TO_BIRTH_RATIO'] = df['DAYS_LAST_PHONE_CHANGE'] / df['DAYS_EMPLOYED']\n",
    "    df['NEW_CREDIT_TO_INCOME_RATIO'] = df['AMT_CREDIT'] / df['AMT_INCOME_TOTAL']\n",
    "    \n",
    "    # Categorical features with Binary encode (0 or 1; two categories)\n",
    "    for bin_feature in ['CODE_GENDER', 'FLAG_OWN_CAR', 'FLAG_OWN_REALTY']:\n",
    "        df[bin_feature], uniques = pd.factorize(df[bin_feature])\n",
    "    # Categorical features with One-Hot encode\n",
    "    df, cat_cols = one_hot_encoder(df, nan_as_category)\n",
    "    \n",
    "    # Some simple new features (percentages)\n",
    "    # df['DAYS_EMPLOYED_PERC'] = df['DAYS_EMPLOYED'] / df['DAYS_BIRTH']\n",
    "    # df['INCOME_CREDIT_PERC'] = df['AMT_INCOME_TOTAL'] / df['AMT_CREDIT']\n",
    "    # df['INCOME_PER_PERSON'] = df['AMT_INCOME_TOTAL'] / df['CNT_FAM_MEMBERS']\n",
    "    # df['ANNUITY_INCOME_PERC'] = df['AMT_ANNUITY'] / df['AMT_INCOME_TOTAL']\n",
    "    # df['PAYMENT_RATE'] = df['AMT_ANNUITY'] / df['AMT_CREDIT']\n",
    "    del test_df\n",
    "    gc.collect()\n",
    "    return df"
   ]
  },
  {
   "cell_type": "markdown",
   "id": "9bf3a861",
   "metadata": {},
   "source": [
    "#### Preprocess bureau.csv and bureau_balance.csv"
   ]
  },
  {
   "cell_type": "code",
   "execution_count": 17,
   "id": "1aeb4f85",
   "metadata": {},
   "outputs": [],
   "source": [
    "def bureau_and_balance(num_rows = None, nan_as_category = True):\n",
    "    bureau = pd.read_csv('D:\\\\Datasets\\\\home-credit-default-risk\\\\bureau.csv', nrows = num_rows)\n",
    "    bb = pd.read_csv('D:\\\\Datasets\\\\home-credit-default-risk\\\\bureau_balance.csv', nrows = num_rows)\n",
    "    bb, bb_cat = one_hot_encoder(bb, nan_as_category)\n",
    "    bureau, bureau_cat = one_hot_encoder(bureau, nan_as_category)\n",
    "    \n",
    "    # Bureau balance: Perform aggregations and merge with bureau.csv\n",
    "    bb_aggregations = {'MONTHS_BALANCE': ['min', 'max', 'size']}\n",
    "    for col in bb_cat:\n",
    "        bb_aggregations[col] = ['mean']\n",
    "    bb_agg = bb.groupby('SK_ID_BUREAU').agg(bb_aggregations)\n",
    "    bb_agg.columns = pd.Index([e[0] + \"_\" + e[1].upper() for e in bb_agg.columns.tolist()])\n",
    "    bureau = bureau.join(bb_agg, how='left', on='SK_ID_BUREAU')\n",
    "    bureau.drop(['SK_ID_BUREAU'], axis=1, inplace= True)\n",
    "    del bb, bb_agg\n",
    "    gc.collect()\n",
    "    \n",
    "    # Bureau and bureau_balance numeric features\n",
    "    num_aggregations = {\n",
    "        'DAYS_CREDIT': [ 'mean', 'var'],\n",
    "        'DAYS_CREDIT_ENDDATE': [ 'mean'],\n",
    "        'DAYS_CREDIT_UPDATE': ['mean'],\n",
    "        'CREDIT_DAY_OVERDUE': ['mean'],\n",
    "        'AMT_CREDIT_MAX_OVERDUE': ['mean'],\n",
    "        'AMT_CREDIT_SUM': [ 'mean', 'sum'],\n",
    "        'AMT_CREDIT_SUM_DEBT': [ 'mean', 'sum'],\n",
    "        'AMT_CREDIT_SUM_OVERDUE': ['mean'],\n",
    "        'AMT_CREDIT_SUM_LIMIT': ['mean', 'sum'],\n",
    "        'AMT_ANNUITY': ['max', 'mean'],\n",
    "        'CNT_CREDIT_PROLONG': ['sum'],\n",
    "        'MONTHS_BALANCE_MIN': ['min'],\n",
    "        'MONTHS_BALANCE_MAX': ['max'],\n",
    "        'MONTHS_BALANCE_SIZE': ['mean', 'sum']\n",
    "    }\n",
    "    # Bureau and bureau_balance categorical features\n",
    "    cat_aggregations = {}\n",
    "    for cat in bureau_cat: cat_aggregations[cat] = ['mean']\n",
    "    for cat in bb_cat: cat_aggregations[cat + \"_MEAN\"] = ['mean']\n",
    "    \n",
    "    bureau_agg = bureau.groupby('SK_ID_CURR').agg({**num_aggregations, **cat_aggregations})\n",
    "    bureau_agg.columns = pd.Index(['BURO_' + e[0] + \"_\" + e[1].upper() for e in bureau_agg.columns.tolist()])\n",
    "    # Bureau: Active credits - using only numerical aggregations\n",
    "    active = bureau[bureau['CREDIT_ACTIVE_Active'] == 1]\n",
    "    active_agg = active.groupby('SK_ID_CURR').agg(num_aggregations)\n",
    "    active_agg.columns = pd.Index(['ACTIVE_' + e[0] + \"_\" + e[1].upper() for e in active_agg.columns.tolist()])\n",
    "    bureau_agg = bureau_agg.join(active_agg, how='left', on='SK_ID_CURR')\n",
    "    del active, active_agg\n",
    "    gc.collect()\n",
    "    # Bureau: Closed credits - using only numerical aggregations\n",
    "    closed = bureau[bureau['CREDIT_ACTIVE_Closed'] == 1]\n",
    "    closed_agg = closed.groupby('SK_ID_CURR').agg(num_aggregations)\n",
    "    closed_agg.columns = pd.Index(['CLOSED_' + e[0] + \"_\" + e[1].upper() for e in closed_agg.columns.tolist()])\n",
    "    bureau_agg = bureau_agg.join(closed_agg, how='left', on='SK_ID_CURR')\n",
    "    del closed, closed_agg, bureau\n",
    "    gc.collect()\n",
    "    return bureau_agg"
   ]
  },
  {
   "cell_type": "markdown",
   "id": "6486eeee",
   "metadata": {},
   "source": [
    "#### Preprocess previous_applications.csv"
   ]
  },
  {
   "cell_type": "code",
   "execution_count": 18,
   "id": "357cf7b8",
   "metadata": {},
   "outputs": [],
   "source": [
    "def previous_applications(num_rows = None, nan_as_category = True):\n",
    "    prev = pd.read_csv('D:\\\\Datasets\\\\home-credit-default-risk\\\\previous_application.csv', nrows = num_rows)\n",
    "    prev, cat_cols = one_hot_encoder(prev, nan_as_category= True)\n",
    "    # Days 365.243 values -> nan\n",
    "    prev['DAYS_FIRST_DRAWING'].replace(365243, np.nan, inplace= True)\n",
    "    prev['DAYS_FIRST_DUE'].replace(365243, np.nan, inplace= True)\n",
    "    prev['DAYS_LAST_DUE_1ST_VERSION'].replace(365243, np.nan, inplace= True)\n",
    "    prev['DAYS_LAST_DUE'].replace(365243, np.nan, inplace= True)\n",
    "    prev['DAYS_TERMINATION'].replace(365243, np.nan, inplace= True)\n",
    "    # Add feature: value ask / value received percentage\n",
    "    prev['APP_CREDIT_PERC'] = prev['AMT_APPLICATION'] / prev['AMT_CREDIT']\n",
    "    # Previous applications numeric features\n",
    "    num_aggregations = {\n",
    "        'AMT_ANNUITY': [ 'max', 'mean'],\n",
    "        'AMT_APPLICATION': ['min', 'mean'],\n",
    "        'AMT_CREDIT': ['min', 'max', 'mean'],\n",
    "        'APP_CREDIT_PERC': ['min', 'max', 'mean'],\n",
    "        'AMT_DOWN_PAYMENT': ['min', 'max', 'mean'],\n",
    "        'AMT_GOODS_PRICE': ['min', 'max', 'mean'],\n",
    "        'HOUR_APPR_PROCESS_START': ['min', 'max', 'mean'],\n",
    "        'RATE_DOWN_PAYMENT': ['min', 'max', 'mean'],\n",
    "        'DAYS_DECISION': ['min', 'max', 'mean'],\n",
    "        'CNT_PAYMENT': ['mean', 'sum'],\n",
    "    }\n",
    "    # Previous applications categorical features\n",
    "    cat_aggregations = {}\n",
    "    for cat in cat_cols:\n",
    "        cat_aggregations[cat] = ['mean']\n",
    "    \n",
    "    prev_agg = prev.groupby('SK_ID_CURR').agg({**num_aggregations, **cat_aggregations})\n",
    "    prev_agg.columns = pd.Index(['PREV_' + e[0] + \"_\" + e[1].upper() for e in prev_agg.columns.tolist()])\n",
    "    # Previous Applications: Approved Applications - only numerical features\n",
    "    approved = prev[prev['NAME_CONTRACT_STATUS_Approved'] == 1]\n",
    "    approved_agg = approved.groupby('SK_ID_CURR').agg(num_aggregations)\n",
    "    approved_agg.columns = pd.Index(['APPROVED_' + e[0] + \"_\" + e[1].upper() for e in approved_agg.columns.tolist()])\n",
    "    prev_agg = prev_agg.join(approved_agg, how='left', on='SK_ID_CURR')\n",
    "    # Previous Applications: Refused Applications - only numerical features\n",
    "    refused = prev[prev['NAME_CONTRACT_STATUS_Refused'] == 1]\n",
    "    refused_agg = refused.groupby('SK_ID_CURR').agg(num_aggregations)\n",
    "    refused_agg.columns = pd.Index(['REFUSED_' + e[0] + \"_\" + e[1].upper() for e in refused_agg.columns.tolist()])\n",
    "    prev_agg = prev_agg.join(refused_agg, how='left', on='SK_ID_CURR')\n",
    "    del refused, refused_agg, approved, approved_agg, prev\n",
    "    gc.collect()\n",
    "    return prev_agg"
   ]
  },
  {
   "cell_type": "markdown",
   "id": "2c2bf395",
   "metadata": {},
   "source": [
    "#### Preprocess POS_CASH_balance.csv"
   ]
  },
  {
   "cell_type": "code",
   "execution_count": 19,
   "id": "960b8c62",
   "metadata": {},
   "outputs": [],
   "source": [
    "def pos_cash(num_rows = None, nan_as_category = True):\n",
    "    pos = pd.read_csv('D:\\\\Datasets\\\\home-credit-default-risk\\\\POS_CASH_balance.csv', nrows = num_rows)\n",
    "    pos, cat_cols = one_hot_encoder(pos, nan_as_category= True)\n",
    "    # Features\n",
    "    aggregations = {\n",
    "        'MONTHS_BALANCE': ['max', 'mean', 'size'],\n",
    "        'SK_DPD': ['max', 'mean'],\n",
    "        'SK_DPD_DEF': ['max', 'mean']\n",
    "    }\n",
    "    for cat in cat_cols:\n",
    "        aggregations[cat] = ['mean']\n",
    "    \n",
    "    pos_agg = pos.groupby('SK_ID_CURR').agg(aggregations)\n",
    "    pos_agg.columns = pd.Index(['POS_' + e[0] + \"_\" + e[1].upper() for e in pos_agg.columns.tolist()])\n",
    "    # Count pos cash accounts\n",
    "    pos_agg['POS_COUNT'] = pos.groupby('SK_ID_CURR').size()\n",
    "    del pos\n",
    "    gc.collect()\n",
    "    return pos_agg"
   ]
  },
  {
   "cell_type": "markdown",
   "id": "df752b64",
   "metadata": {},
   "source": [
    "#### Preprocess installments_payments.csv"
   ]
  },
  {
   "cell_type": "code",
   "execution_count": 20,
   "id": "36870b88",
   "metadata": {},
   "outputs": [],
   "source": [
    "def installments_payments(num_rows = None, nan_as_category = True):\n",
    "    ins = pd.read_csv('D:\\\\Datasets\\\\home-credit-default-risk\\\\installments_payments.csv', nrows = num_rows)\n",
    "    ins, cat_cols = one_hot_encoder(ins, nan_as_category= True)\n",
    "    # Percentage and difference paid in each installment (amount paid and installment value)\n",
    "    ins['PAYMENT_PERC'] = ins['AMT_PAYMENT'] / ins['AMT_INSTALMENT']\n",
    "    ins['PAYMENT_DIFF'] = ins['AMT_INSTALMENT'] - ins['AMT_PAYMENT']\n",
    "    # Days past due and days before due (no negative values)\n",
    "    ins['DPD'] = ins['DAYS_ENTRY_PAYMENT'] - ins['DAYS_INSTALMENT']\n",
    "    ins['DBD'] = ins['DAYS_INSTALMENT'] - ins['DAYS_ENTRY_PAYMENT']\n",
    "    ins['DPD'] = ins['DPD'].apply(lambda x: x if x > 0 else 0)\n",
    "    ins['DBD'] = ins['DBD'].apply(lambda x: x if x > 0 else 0)\n",
    "    # Features: Perform aggregations\n",
    "    aggregations = {\n",
    "        'NUM_INSTALMENT_VERSION': ['nunique'],\n",
    "        'DPD': ['max', 'mean', 'sum'],\n",
    "        'DBD': ['max', 'mean', 'sum'],\n",
    "        'PAYMENT_PERC': [ 'mean', 'sum', 'var'],\n",
    "        'PAYMENT_DIFF': [ 'mean', 'sum', 'var'],\n",
    "        'AMT_INSTALMENT': ['max', 'mean', 'sum'],\n",
    "        'AMT_PAYMENT': ['min', 'max', 'mean', 'sum'],\n",
    "        'DAYS_ENTRY_PAYMENT': ['max', 'mean', 'sum']\n",
    "    }\n",
    "    for cat in cat_cols:\n",
    "        aggregations[cat] = ['mean']\n",
    "    ins_agg = ins.groupby('SK_ID_CURR').agg(aggregations)\n",
    "    ins_agg.columns = pd.Index(['INSTAL_' + e[0] + \"_\" + e[1].upper() for e in ins_agg.columns.tolist()])\n",
    "    # Count installments accounts\n",
    "    ins_agg['INSTAL_COUNT'] = ins.groupby('SK_ID_CURR').size()\n",
    "    del ins\n",
    "    gc.collect()\n",
    "    return ins_agg"
   ]
  },
  {
   "cell_type": "markdown",
   "id": "fac6397d",
   "metadata": {},
   "source": [
    "#### Preprocess credit_card_balance.csv"
   ]
  },
  {
   "cell_type": "code",
   "execution_count": 21,
   "id": "50909182",
   "metadata": {},
   "outputs": [],
   "source": [
    "def credit_card_balance(num_rows = None, nan_as_category = True):\n",
    "    cc = pd.read_csv('D:\\\\Datasets\\\\home-credit-default-risk\\\\credit_card_balance.csv', nrows = num_rows)\n",
    "    cc, cat_cols = one_hot_encoder(cc, nan_as_category= True)\n",
    "    # General aggregations\n",
    "    cc.drop(['SK_ID_PREV'], axis= 1, inplace = True)\n",
    "    cc_agg = cc.groupby('SK_ID_CURR').agg(['min', 'max', 'mean', 'sum', 'var'])\n",
    "    cc_agg.columns = pd.Index(['CC_' + e[0] + \"_\" + e[1].upper() for e in cc_agg.columns.tolist()])\n",
    "    # Count credit card lines\n",
    "    cc_agg['CC_COUNT'] = cc.groupby('SK_ID_CURR').size()\n",
    "    del cc\n",
    "    gc.collect()\n",
    "    return cc_agg"
   ]
  },
  {
   "cell_type": "markdown",
   "id": "11fc1006",
   "metadata": {},
   "source": [
    "#### XGB GBDT with KFold or Stratified KFold"
   ]
  },
  {
   "cell_type": "code",
   "execution_count": 52,
   "id": "edf8806d",
   "metadata": {},
   "outputs": [],
   "source": [
    "def kfold_xgb(df, num_folds, stratified = True, debug= False):\n",
    "    # Divide in training/validation and test data\n",
    "    train_df = df[df['TARGET'].notnull()]\n",
    "    test_df = df[df['TARGET'].isnull()]\n",
    "    print(\"Starting XGBoost. Train shape: {}, test shape: {}\".format(train_df.shape, test_df.shape))\n",
    "    del df\n",
    "    gc.collect()\n",
    "    # Cross validation model\n",
    "    if stratified:\n",
    "        folds = StratifiedKFold(n_splits= num_folds, shuffle=True, random_state=1054)\n",
    "    else:\n",
    "        folds = KFold(n_splits= num_folds, shuffle=True, random_state=1054)\n",
    "    # Create arrays and dataframes to store results\n",
    "    oof_preds = np.zeros(train_df.shape[0])\n",
    "    sub_preds = np.zeros(test_df.shape[0])\n",
    "    feature_importance_df = pd.DataFrame()\n",
    "    feats = [f for f in train_df.columns if f not in ['TARGET','SK_ID_CURR','SK_ID_BUREAU','SK_ID_PREV','index']]\n",
    "    \n",
    "    for n_fold, (train_idx, valid_idx) in enumerate(folds.split(train_df[feats], train_df['TARGET'])):\n",
    "        if n_fold == 0: # REmove for full K-fold run\n",
    "            train_x, train_y = train_df[feats].iloc[train_idx], train_df['TARGET'].iloc[train_idx]\n",
    "            valid_x, valid_y = train_df[feats].iloc[valid_idx], train_df['TARGET'].iloc[valid_idx]\n",
    "            train_x = train_x.replace((np.inf, -np.inf, np.nan), np.nan).reset_index(drop=True)\n",
    "            \n",
    "            clf = XGBClassifier(learning_rate =0.01, n_estimators=10000, max_depth=4, min_child_weight=5, subsample=0.8, colsample_bytree=0.8, objective= 'binary:logistic', \n",
    "            nthread=4, scale_pos_weight=2.5, seed=27, reg_lambda = 1.2)\n",
    "\n",
    "            clf.fit(train_x, train_y, eval_set=[(train_x, train_y), (valid_x, valid_y)], \n",
    "                eval_metric= 'auc', verbose= 100, early_stopping_rounds= 200)\n",
    "\n",
    "            oof_preds[valid_idx] = clf.predict_proba(valid_x)[:, 1]\n",
    "            sub_preds += clf.predict_proba(test_df[feats])[:, 1]  / folds.n_splits # - Uncomment for K-fold \n",
    "\n",
    "            fold_importance_df = pd.DataFrame()\n",
    "            fold_importance_df[\"feature\"] = feats\n",
    "            fold_importance_df[\"importance\"] = clf.feature_importances_\n",
    "            fold_importance_df[\"fold\"] = n_fold + 1\n",
    "            feature_importance_df = pd.concat([feature_importance_df, fold_importance_df], axis=0)\n",
    "            print('Fold %2d AUC : %.6f' % (n_fold + 1, roc_auc_score(valid_y, oof_preds[valid_idx])))\n",
    "            del train_x, train_y, valid_x, valid_y\n",
    "            gc.collect()\n",
    "        \n",
    "        np.save(\"xgb_oof_preds_1\", oof_preds)\n",
    "        np.save(\"xgb_sub_preds_1\", sub_preds)\n",
    "\n",
    "    print('Full AUC score %.6f' % roc_auc_score(train_df['TARGET'], oof_preds))\n",
    "    # Write submission file and plot feature importance\n",
    "    \n",
    "    if not debug:\n",
    "        test_df['TARGET'] = sub_preds\n",
    "        test_df[['SK_ID_CURR', 'TARGET']].to_csv(submission_file_name, index= False)\n",
    "        \n",
    "    return clf, feature_importance_df\n",
    "    "
   ]
  },
  {
   "cell_type": "markdown",
   "id": "a5846eaf",
   "metadata": {},
   "source": [
    "#### Display/plot feature importance"
   ]
  },
  {
   "cell_type": "code",
   "execution_count": 53,
   "id": "dd571c21",
   "metadata": {},
   "outputs": [],
   "source": [
    "def display_importances(feature_importance_df_):\n",
    "    cols = feature_importance_df_[[\"feature\", \"importance\"]].groupby(\"feature\").mean().sort_values(by=\"importance\", ascending=False)[:40].index\n",
    "    best_features = feature_importance_df_.loc[feature_importance_df_.feature.isin(cols)]\n",
    "    plt.figure(figsize=(8, 10))\n",
    "    sns.barplot(x=\"importance\", y=\"feature\", data=best_features.sort_values(by=\"importance\", ascending=False))\n",
    "    plt.title('XGBoost Features (avg over folds)')\n",
    "    plt.tight_layout()"
   ]
  },
  {
   "cell_type": "markdown",
   "id": "313aa957",
   "metadata": {},
   "source": [
    "### Full Pipeline"
   ]
  },
  {
   "cell_type": "code",
   "execution_count": 54,
   "id": "fcc07b77",
   "metadata": {},
   "outputs": [],
   "source": [
    "def main(debug = False):\n",
    "    num_rows = 10000 if debug else None\n",
    "    df = application_train_test(num_rows)\n",
    "    with timer(\"Process bureau and bureau_balance\"):\n",
    "        bureau = bureau_and_balance(num_rows)\n",
    "        print(\"Bureau df shape:\", bureau.shape)\n",
    "        df = df.join(bureau, how='left', on='SK_ID_CURR')\n",
    "        del bureau\n",
    "        gc.collect()\n",
    "    with timer(\"Process previous_applications\"):\n",
    "        prev = previous_applications(num_rows)\n",
    "        print(\"Previous applications df shape:\", prev.shape)\n",
    "        df = df.join(prev, how='left', on='SK_ID_CURR')\n",
    "        del prev\n",
    "        gc.collect()\n",
    "    with timer(\"Process POS-CASH balance\"):\n",
    "        pos = pos_cash(num_rows)\n",
    "        print(\"Pos-cash balance df shape:\", pos.shape)\n",
    "        df = df.join(pos, how='left', on='SK_ID_CURR')\n",
    "        del pos\n",
    "        gc.collect()\n",
    "    with timer(\"Process installments payments\"):\n",
    "        ins = installments_payments(num_rows)\n",
    "        print(\"Installments payments df shape:\", ins.shape)\n",
    "        df = df.join(ins, how='left', on='SK_ID_CURR')\n",
    "        del ins\n",
    "        gc.collect()\n",
    "    with timer(\"Process credit card balance\"):\n",
    "        cc = credit_card_balance(num_rows)\n",
    "        print(\"Credit card balance df shape:\", cc.shape)\n",
    "        df = df.join(cc, how='left', on='SK_ID_CURR')\n",
    "        del cc\n",
    "        gc.collect()\n",
    "    with timer(\"Run LightGBM with kfold\"):\n",
    "        clf, feature_importances_df = kfold_xgb(df, num_folds= 10, stratified= True, debug= debug)\n",
    "        display_importances(feature_importances_df)"
   ]
  },
  {
   "cell_type": "markdown",
   "id": "855fd397",
   "metadata": {},
   "source": [
    "## Running the Pipeline"
   ]
  },
  {
   "cell_type": "code",
   "execution_count": 55,
   "id": "bf81050c",
   "metadata": {},
   "outputs": [
    {
     "name": "stdout",
     "output_type": "stream",
     "text": [
      "Train samples: 307511, test samples: 48744\n",
      "Bureau df shape: (305811, 95)\n",
      "Process bureau and bureau_balance - done in 14s\n",
      "Previous applications df shape: (338857, 240)\n",
      "Process previous_applications - done in 14s\n",
      "Pos-cash balance df shape: (337252, 18)\n",
      "Process POS-CASH balance - done in 8s\n",
      "Installments payments df shape: (339587, 24)\n",
      "Process installments payments - done in 22s\n",
      "Credit card balance df shape: (103558, 141)\n",
      "Process credit card balance - done in 15s\n",
      "Starting XGBoost. Train shape: (307507, 776), test shape: (48744, 776)\n"
     ]
    },
    {
     "name": "stderr",
     "output_type": "stream",
     "text": [
      "C:\\Users\\ramez\\.conda\\envs\\deeplearning\\lib\\site-packages\\xgboost\\sklearn.py:1224: UserWarning: The use of label encoder in XGBClassifier is deprecated and will be removed in a future release. To remove this warning, do the following: 1) Pass option use_label_encoder=False when constructing XGBClassifier object; and 2) Encode your labels (y) as integers starting with 0, i.e. 0, 1, 2, ..., [num_class - 1].\n",
      "  warnings.warn(label_encoder_deprecation_msg, UserWarning)\n"
     ]
    },
    {
     "name": "stdout",
     "output_type": "stream",
     "text": [
      "[0]\tvalidation_0-auc:0.72062\tvalidation_1-auc:0.72134\n",
      "[100]\tvalidation_0-auc:0.74272\tvalidation_1-auc:0.74349\n",
      "[200]\tvalidation_0-auc:0.75167\tvalidation_1-auc:0.75212\n",
      "[300]\tvalidation_0-auc:0.76155\tvalidation_1-auc:0.76055\n",
      "[400]\tvalidation_0-auc:0.77139\tvalidation_1-auc:0.76884\n",
      "[500]\tvalidation_0-auc:0.77850\tvalidation_1-auc:0.77423\n",
      "[600]\tvalidation_0-auc:0.78390\tvalidation_1-auc:0.77804\n",
      "[700]\tvalidation_0-auc:0.78833\tvalidation_1-auc:0.78102\n",
      "[800]\tvalidation_0-auc:0.79228\tvalidation_1-auc:0.78328\n",
      "[900]\tvalidation_0-auc:0.79573\tvalidation_1-auc:0.78493\n",
      "[1000]\tvalidation_0-auc:0.79881\tvalidation_1-auc:0.78653\n",
      "[1100]\tvalidation_0-auc:0.80149\tvalidation_1-auc:0.78773\n",
      "[1200]\tvalidation_0-auc:0.80394\tvalidation_1-auc:0.78872\n",
      "[1300]\tvalidation_0-auc:0.80606\tvalidation_1-auc:0.78942\n",
      "[1400]\tvalidation_0-auc:0.80824\tvalidation_1-auc:0.79028\n",
      "[1500]\tvalidation_0-auc:0.81030\tvalidation_1-auc:0.79111\n",
      "[1600]\tvalidation_0-auc:0.81232\tvalidation_1-auc:0.79175\n",
      "[1700]\tvalidation_0-auc:0.81423\tvalidation_1-auc:0.79228\n",
      "[1800]\tvalidation_0-auc:0.81612\tvalidation_1-auc:0.79288\n",
      "[1900]\tvalidation_0-auc:0.81791\tvalidation_1-auc:0.79339\n",
      "[2000]\tvalidation_0-auc:0.81950\tvalidation_1-auc:0.79384\n",
      "[2100]\tvalidation_0-auc:0.82119\tvalidation_1-auc:0.79419\n",
      "[2200]\tvalidation_0-auc:0.82283\tvalidation_1-auc:0.79451\n",
      "[2300]\tvalidation_0-auc:0.82440\tvalidation_1-auc:0.79481\n",
      "[2400]\tvalidation_0-auc:0.82582\tvalidation_1-auc:0.79506\n",
      "[2500]\tvalidation_0-auc:0.82737\tvalidation_1-auc:0.79540\n",
      "[2600]\tvalidation_0-auc:0.82889\tvalidation_1-auc:0.79560\n",
      "[2700]\tvalidation_0-auc:0.83034\tvalidation_1-auc:0.79583\n",
      "[2800]\tvalidation_0-auc:0.83179\tvalidation_1-auc:0.79610\n",
      "[2900]\tvalidation_0-auc:0.83317\tvalidation_1-auc:0.79627\n",
      "[3000]\tvalidation_0-auc:0.83456\tvalidation_1-auc:0.79655\n",
      "[3100]\tvalidation_0-auc:0.83603\tvalidation_1-auc:0.79682\n",
      "[3200]\tvalidation_0-auc:0.83724\tvalidation_1-auc:0.79702\n",
      "[3300]\tvalidation_0-auc:0.83848\tvalidation_1-auc:0.79710\n",
      "[3400]\tvalidation_0-auc:0.83975\tvalidation_1-auc:0.79723\n",
      "[3500]\tvalidation_0-auc:0.84096\tvalidation_1-auc:0.79742\n",
      "[3600]\tvalidation_0-auc:0.84222\tvalidation_1-auc:0.79763\n",
      "[3700]\tvalidation_0-auc:0.84352\tvalidation_1-auc:0.79781\n",
      "[3800]\tvalidation_0-auc:0.84469\tvalidation_1-auc:0.79789\n",
      "[3900]\tvalidation_0-auc:0.84596\tvalidation_1-auc:0.79803\n",
      "[4000]\tvalidation_0-auc:0.84711\tvalidation_1-auc:0.79810\n",
      "[4100]\tvalidation_0-auc:0.84824\tvalidation_1-auc:0.79820\n",
      "[4200]\tvalidation_0-auc:0.84935\tvalidation_1-auc:0.79823\n",
      "[4300]\tvalidation_0-auc:0.85044\tvalidation_1-auc:0.79826\n",
      "[4400]\tvalidation_0-auc:0.85159\tvalidation_1-auc:0.79830\n",
      "[4500]\tvalidation_0-auc:0.85268\tvalidation_1-auc:0.79839\n",
      "[4600]\tvalidation_0-auc:0.85377\tvalidation_1-auc:0.79847\n",
      "[4700]\tvalidation_0-auc:0.85479\tvalidation_1-auc:0.79856\n",
      "[4800]\tvalidation_0-auc:0.85587\tvalidation_1-auc:0.79858\n",
      "[4900]\tvalidation_0-auc:0.85692\tvalidation_1-auc:0.79872\n",
      "[5000]\tvalidation_0-auc:0.85794\tvalidation_1-auc:0.79882\n",
      "[5100]\tvalidation_0-auc:0.85897\tvalidation_1-auc:0.79894\n",
      "[5200]\tvalidation_0-auc:0.85997\tvalidation_1-auc:0.79900\n",
      "[5300]\tvalidation_0-auc:0.86094\tvalidation_1-auc:0.79911\n",
      "[5400]\tvalidation_0-auc:0.86195\tvalidation_1-auc:0.79921\n",
      "[5500]\tvalidation_0-auc:0.86293\tvalidation_1-auc:0.79932\n",
      "[5600]\tvalidation_0-auc:0.86391\tvalidation_1-auc:0.79936\n",
      "[5700]\tvalidation_0-auc:0.86485\tvalidation_1-auc:0.79939\n",
      "[5800]\tvalidation_0-auc:0.86578\tvalidation_1-auc:0.79946\n",
      "[5900]\tvalidation_0-auc:0.86678\tvalidation_1-auc:0.79953\n",
      "[6000]\tvalidation_0-auc:0.86760\tvalidation_1-auc:0.79951\n",
      "[6100]\tvalidation_0-auc:0.86850\tvalidation_1-auc:0.79956\n",
      "[6200]\tvalidation_0-auc:0.86946\tvalidation_1-auc:0.79960\n",
      "[6300]\tvalidation_0-auc:0.87034\tvalidation_1-auc:0.79966\n",
      "[6400]\tvalidation_0-auc:0.87120\tvalidation_1-auc:0.79967\n",
      "[6500]\tvalidation_0-auc:0.87210\tvalidation_1-auc:0.79973\n",
      "[6600]\tvalidation_0-auc:0.87297\tvalidation_1-auc:0.79974\n",
      "[6700]\tvalidation_0-auc:0.87394\tvalidation_1-auc:0.79977\n",
      "[6800]\tvalidation_0-auc:0.87480\tvalidation_1-auc:0.79986\n",
      "[6900]\tvalidation_0-auc:0.87570\tvalidation_1-auc:0.79983\n",
      "[7000]\tvalidation_0-auc:0.87667\tvalidation_1-auc:0.79983\n",
      "[7005]\tvalidation_0-auc:0.87671\tvalidation_1-auc:0.79983\n",
      "Fold  1 AUC : 0.799878\n",
      "Full AUC score 0.503010\n"
     ]
    },
    {
     "name": "stderr",
     "output_type": "stream",
     "text": [
      "C:\\Users\\ramez\\AppData\\Local\\Temp\\ipykernel_2232\\2316860268.py:50: SettingWithCopyWarning: \n",
      "A value is trying to be set on a copy of a slice from a DataFrame.\n",
      "Try using .loc[row_indexer,col_indexer] = value instead\n",
      "\n",
      "See the caveats in the documentation: https://pandas.pydata.org/pandas-docs/stable/user_guide/indexing.html#returning-a-view-versus-a-copy\n",
      "  test_df['TARGET'] = sub_preds\n"
     ]
    },
    {
     "name": "stdout",
     "output_type": "stream",
     "text": [
      "Run LightGBM with kfold - done in 14795s\n",
      "Full model run - done in 14873s\n"
     ]
    },
    {
     "data": {
      "image/png": "[encoded data removed]",
      "text/plain": [
       "<Figure size 576x720 with 1 Axes>"
      ]
     },
     "metadata": {
      "needs_background": "light"
     },
     "output_type": "display_data"
    }
   ],
   "source": [
    "submission_file_name = \"submission_kernel02_xgb.csv\"\n",
    "with timer(\"Full model run\"):\n",
    "    main()"
   ]
  },
  {
   "cell_type": "code",
   "execution_count": null,
   "id": "63a0491a",
   "metadata": {},
   "outputs": [],
   "source": []
  }
 ],
 "metadata": {
  "kernelspec": {
   "display_name": "Python 3 (ipykernel)",
   "language": "python",
   "name": "python3"
  },
  "language_info": {
   "codemirror_mode": {
    "name": "ipython",
    "version": 3
   },
   "file_extension": ".py",
   "mimetype": "text/x-python",
   "name": "python",
   "nbconvert_exporter": "python",
   "pygments_lexer": "ipython3",
   "version": "3.9.12"
  }
 },
 "nbformat": 4,
 "nbformat_minor": 5
}
